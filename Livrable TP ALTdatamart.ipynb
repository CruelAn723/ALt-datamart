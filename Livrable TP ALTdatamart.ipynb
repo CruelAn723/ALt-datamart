{
 "cells": [
  {
   "cell_type": "markdown",
   "id": "e2b4e344-343e-4c5e-9b1f-628a63938b32",
   "metadata": {},
   "source": [
    "# TPALTDAtaMart\n",
    "\n",
    "Membres du groupe :\n",
    "- **TOUNA ETOUNDI ALEXIS JANVIER**\n",
    "\n",
    "- **BADJENE HONORE**\n",
    "\n",
    "\n",
    "\n",
    "\n",
    "\n",
    "\n"
   ]
  },
  {
   "cell_type": "markdown",
   "id": "f67bb6b3-64bb-49aa-b60a-5f41bfe895ab",
   "metadata": {
    "scrolled": true
   },
   "source": [
    " ## TP1\n",
    "* Ecrivez deux programme Python dans le dossier src/data *\n",
    "- Le premier récupère tous les dataset de 2018 à 2023\n",
    "- Le deuxième récupère le dernier mois\n",
    "- Les données seront téléchargées et stockées dans minio"
   ]
  },
  {
   "cell_type": "markdown",
   "id": "0a15fdee-aa1c-4f77-8144-4a553e2e4b00",
   "metadata": {
    "scrolled": true
   },
   "source": [
    "***Question 1 :***\n",
    " j'utilise principalement 3 bibliotheques pour cette question \n",
    "- *request* pour envoiyuer des requettes http \n",
    "- *tqdm* il me pertmet d'affichier une barre de progression pour que le script ne soit pas muets \n",
    "- *datetime* pour les calculs de dates et aussi pour obtenir la date en temps reels"
   ]
  },
  {
   "cell_type": "code",
   "execution_count": null,
   "id": "aa540ba7-d317-4dac-a570-46bad51baf4f",
   "metadata": {},
   "outputs": [],
   "source": [
    "import requests\n",
    "from tqdm import tqdm\n",
    "from datetime import datetime, timedelta\n",
    "\n",
    "def download_file(url, local_filename):\n",
    "\n",
    "    #  j'envoie une requête GET à l'URL\n",
    "    response = requests.get(url, stream=True)\n",
    "    response.raise_for_status()  # je vérifie si la requête a réussi\n",
    "\n",
    "    # je Récupère la taille totale du fichier\n",
    "    total_size = int(response.headers.get('content-length', 0))\n",
    "\n",
    "    # j'ouvre un fichier en mode binaire pour l'écriture\n",
    "    with open(local_filename, 'wb') as file:\n",
    "        # on Utilise tqdm pour afficher la barre de progression donne un rendu visuel plus facile a apprecier \n",
    "        for chunk in tqdm(response.iter_content(chunk_size=8192), total=total_size // 8192, unit='KB'):\n",
    "            file.write(chunk)\n",
    "\n",
    "def generate_date_range(start_date, end_date):\n",
    "   \"\"\" on genere l'intervelle de date pour lîteration \"\"\"\n",
    "    \n",
    "    start = datetime.strptime(start_date, \"%Y-%m\")\n",
    "    end = datetime.strptime(end_date, \"%Y-%m\")\n",
    "    date_list = []\n",
    "    while start <= end:\n",
    "        date_list.append(start.strftime(\"%Y-%m\"))\n",
    "        start += timedelta(days=31)  # on passe au mois suivant\n",
    "        start = start.replace(day=1)  # on Fixe le jour au 1er du mois\n",
    "    return date_list\n",
    "\n",
    "def download_files_in_date_range(base_url, start_date, end_date):\n",
    "  \n",
    "    dates = generate_date_range(start_date, end_date)\n",
    "    for date in dates:\n",
    "        url = f\"{base_url}_{date}.parquet\"\n",
    "        local_filename = f\"yellow_tripdata_{date}.parquet\"\n",
    "        print(f\"Téléchargement de {url}...\")\n",
    "        download_file(url, local_filename)\n",
    "        print(f\"{local_filename} téléchargé avec succès.\")\n",
    "\n",
    "# URL de base pour les fichiers à télécharger\n",
    "base_url = \"https://d37ci6vzurychx.cloudfront.net/trip-data/yellow_tripdata\"\n",
    "\n",
    "# Dates de début et de fin\n",
    "start_date = \"2018-01\"\n",
    "end_date = \"2023-01\"\n",
    "\n",
    "# on appelle la fonction pour télécharger les fichiers dans l'intervalle de dates\n",
    "download_files_in_date_range(base_url, start_date, end_date)\n",
    "\n"
   ]
  },
  {
   "cell_type": "markdown",
   "id": "1ef505a1-e939-47aa-a515-c2087740d536",
   "metadata": {},
   "source": [
    "![Texte alternatif](P1.png)"
   ]
  },
  {
   "cell_type": "markdown",
   "id": "1561f44d-ffd7-48b3-896a-211bcde89df5",
   "metadata": {},
   "source": [
    "* On peut voir la progression de chaque telechargement par fichier "
   ]
  },
  {
   "cell_type": "markdown",
   "id": "c9425e87-b42d-4997-9d87-a23e33dfcea5",
   "metadata": {},
   "source": [
    "***Question 2 :***\n",
    "Ici il est question de telecharger le dernier mois uniquemnet \n",
    "il faut:\n",
    "- tenir compte de la date du jour et recuperer le mois actuel\n",
    "- verifier de la disponibilité des données du mois precedent et les telecharger\n",
    "- Si les données ne sont pas disponibles reculer de nouveau d'un mois puis verifier à nouveau\n",
    "\n"
   ]
  },
  {
   "cell_type": "code",
   "execution_count": null,
   "id": "db8356a3-b03a-4d93-ab20-16822cdf5bba",
   "metadata": {},
   "outputs": [],
   "source": [
    "def download_previous_month_data():\n",
    "    # on récupère la date du jour\n",
    "    today = datetime.datetime.today()\n",
    "    \n",
    "    while True:\n",
    "        # on écupère l'année et le mois actuels\n",
    "        year = today.year\n",
    "        month = today.month\n",
    "        \n",
    "        # on Formate le mois pour qu'il soit toujours sur deux chiffres\n",
    "        formatted_month = f\"{month:02d}\"\n",
    "        \n",
    "        # on construit l'URL du fichier à télécharger\n",
    "        url = f\"https://d37ci6vzurychx.cloudfront.net/trip-data/yellow_tripdata_{year}-{formatted_month}.parquet\"\n",
    "        \n",
    "        # Nom du fichier local où le fichier sera sauvegardé\n",
    "        file_name = f\"yellow_tripdata_{year}-{formatted_month}.parquet\"\n",
    "        \n",
    "        # Télécharger le fichier\n",
    "        response = requests.get(url)\n",
    "        \n",
    "        # On vérifie si le fichier est disponible\n",
    "        if response.status_code == 200:\n",
    "            with open(file_name, 'wb') as file:\n",
    "                file.write(response.content)\n",
    "            print(f\"Fichier téléchargé et sauvegardé sous le nom {file_name}\")\n",
    "            break  # on Sort de la boucle si le fichier est téléchargé avec succès\n",
    "        else:\n",
    "            print(f\"Le fichier pour le mois {formatted_month}-{year} n'est pas disponible.\")\n",
    "            \n",
    "            # on recule d'un mois\n",
    "            today = today - datetime.timedelta(days=today.day)  # Recule au premier jour du mois précédent\n",
    "            if today.month == 12:\n",
    "                today = today.replace(year=today.year - 1, month=12)\n",
    "            else:\n",
    "                today = today.replace(month=today.month - 1)\n",
    "    \n",
    "    print(\"Fin du téléchargement.\")\n",
    "\n",
    "# Appele la fonction\n",
    "download_previous_month_data()\n",
    "\n"
   ]
  },
  {
   "cell_type": "markdown",
   "id": "ea157ec9-f619-4140-80ad-0c5e206b9bef",
   "metadata": {},
   "source": [
    "![Texte alternatif](P3.png)"
   ]
  },
  {
   "cell_type": "markdown",
   "id": "ca2a57bf-458a-4040-b711-38bfb27db04b",
   "metadata": {},
   "source": [
    "***Question 3 : Combiner les fichier parquet et les stocker***"
   ]
  },
  {
   "cell_type": "markdown",
   "id": "27ab72f7-2be6-413b-95d2-d069f3fe97fd",
   "metadata": {},
   "source": [
    "- Fusion et le stockage dans minIO"
   ]
  },
  {
   "cell_type": "code",
   "execution_count": null,
   "id": "5db3ba30-2595-45b7-815b-c851f9f00179",
   "metadata": {},
   "outputs": [],
   "source": [
    "import pandas as pd\n",
    "import os\n",
    "\n",
    "# repertoire contenant les parquets\n",
    "data_dir = \"C:\\\\Users\\\\Aorus 2022\\\\Desktop\\\\Python Scripts\\\\RAW\"\n",
    "\n",
    "# Initialise la liste vide pour stocker le DataFrames\n",
    "all_data = []\n",
    "\n",
    "# boucle sur chaque fichier du repertoire\n",
    "for filename in os.listdir(data_dir):\n",
    "  if filename.endswith(\".parquet\"):\n",
    "    # Read the parquet file into a DataFrame\n",
    "    df = pd.read_parquet(os.path.join(data_dir, filename))\n",
    "    \n",
    "    # Ajouter le dataframe a la liste\n",
    "    all_data.append(df)\n",
    "\n",
    "# Concatène les Dataframes en un seul\n",
    "combined_df = pd.concat(all_data, ignore_index=True)\n",
    "\n",
    "\n",
    "output_file = \"combined_yellow_data.parquet\" \n",
    "combined_df.to_parquet(output_file)\n",
    "\n",
    "print(f\"Fichiers combinés avec succès {output_file}\")\n",
    "\n"
   ]
  },
  {
   "cell_type": "markdown",
   "id": "64e67aac-711e-400d-8819-053a83844ed5",
   "metadata": {},
   "source": [
    " ## TP2"
   ]
  },
  {
   "cell_type": "markdown",
   "id": "3a2ebb1b-8335-46fa-99e1-f8d4093413d8",
   "metadata": {},
   "source": [
    "- Récupérez les données que vous avez téléchargé en local. \n",
    "- Fusionnez les données pour avoir une unique table. \n",
    "- Chargez le résultat vers votre base de données"
   ]
  },
  {
   "cell_type": "markdown",
   "id": "ff759561-8698-41cb-87b2-029e827e070f",
   "metadata": {},
   "source": [
    "![Texte alternatif](P4.png)"
   ]
  },
  {
   "cell_type": "markdown",
   "id": "ac55f8ba-6a8f-40a7-877f-4288d22c0f4c",
   "metadata": {},
   "source": [
    "Pour le chargement dans la base de donnée j'ai utilisé une bdd MySql"
   ]
  },
  {
   "cell_type": "markdown",
   "id": "1a98ca03-7119-4de1-bef8-d2944036ad7c",
   "metadata": {},
   "source": [
    " ## TP3"
   ]
  },
  {
   "cell_type": "markdown",
   "id": "9f3ef3cc-259f-43ee-8047-cd57da461110",
   "metadata": {},
   "source": [
    "### Nombre total de trajets \n",
    "Ce KPI mesure le nombre total de trajets en taxi effectués pendant une période spécifique. Il fournit un volume global d'activité et peut être utilisé pour suivre la croissance ou la baisse de la demande.\n",
    "\n",
    "Insight: Un nombre élevé de trajets peut indiquer une période chargée, tandis qu'un nombre faible peut suggérer une baisse de la demande.\n",
    "\n",
    "### Durée moyenne des trajets\n",
    "Ce KPI calcule la durée moyenne de chaque trajet en taxi. Il aide à comprendre l'efficacité du service et à identifier les opportunités de réduire les temps de trajet.\n",
    "\n",
    "Insight: Une durée moyenne de trajet plus courte peut indiquer des routes plus efficaces ou une meilleure gestion du trafic, tandis qu'une durée plus longue peut suggérer des congestions ou des routes inefficaces.\n",
    "\n",
    "### Lieux de prise en charge les plus populaires\n",
    "Ce KPI identifie les lieux où les passagers sont les plus susceptibles de héler un taxi. Il aide à optimiser le déploiement des taxis et l'allocation des ressources.\n",
    "Insight: Connaître les lieux de prise en charge les plus populaires peut aider les compagnies de taxi à positionner stratégiquement leurs véhicules, réduisant les temps d'attente et augmentant les chances d'obtenir une course.\n",
    "\n",
    "### Lieux de dépose les plus populaires\n",
    "Ce KPI identifie les lieux où les passagers sont les plus susceptibles d'être déposés. Il aide à comprendre le comportement des passagers et à optimiser les routes des taxis.\n",
    "Insight: Connaître les lieux de dépose les plus populaires peut aider les compagnies de taxi à optimiser leurs routes, réduisant les temps de trajet et augmentant les chances d'obtenir une course.\n",
    "\n",
    "### Tarif moyen \n",
    "Ce KPI mesure le montant moyen payé par les passagers pour chaque trajet. Il aide à comprendre les tendances de revenu et à identifier les opportunités d'augmenter les gains.\n",
    "\n",
    "Insight: Un tarif moyen élevé peut indiquer un service premium ou une forte demande, tandis qu'un tarif moyen faible peut suggérer un marché compétitif ou une faible demande.\n",
    "\n",
    "### 5 modes de paiement les plus courants \n",
    "\n",
    "Ce KPI identifie les modes de paiement les plus couramment utilisés par les passagers. Il aide à comprendre le comportement des passagers et à optimiser le traitement des paiements.\n",
    "\n",
    "Insight: Connaître les modes de paiement les plus courants peut aider les compagnies de taxi à optimiser leur traitement des paiements, réduisant les frais de transaction et augmentant les revenus.\n",
    "\n",
    "### Heures de pointe\n",
    "Ce KPI identifie les heures les plus chargées de la journée où les passagers sont les plus susceptibles de héler un taxi. Il aide à optimiser le déploiement des taxis et l'allocation des ressources.\n",
    "\n",
    "Insight: Connaître les heures de pointe peut aider les compagnies de taxi à positionner stratégiquement leurs véhicules, réduisant les temps d'attente et augmentant les chances d'obtenir une course pendant les périodes chargées."
   ]
  },
  {
   "cell_type": "markdown",
   "id": "3d4154d4-a8fb-430b-9445-8a850a8d76ce",
   "metadata": {},
   "source": [
    "## Le modèle en flocon \n",
    "### DimensionTemporelle\n",
    "Cette dimension stocke les informations temporelles liées aux courses de taxi.\n",
    "\n",
    "pickup_datetime : La date et l'heure du début de la course.\n",
    "dropoff_datetime : La date et l'heure de la fin de la course.\n",
    "### DimensionLieu\n",
    "Cette dimension contient des informations sur les emplacements géographiques liés aux courses de taxi.\n",
    "\n",
    "pulocationid : L'identifiant du lieu de prise en charge.\n",
    "dolocationid : L'identifiant du lieu de dépose.\n",
    "### DimensionFournisseur\n",
    "Cette dimension stocke des informations sur les fournisseurs de services de taxi.\n",
    "\n",
    "vendorid : L'identifiant du fournisseur de taxi.\n",
    "### DimensionTarification\n",
    "Cette dimension stocke des informations sur les différentes tarifications utilisées.\n",
    "\n",
    "ratecodeid : L'identifiant de la tarification utilisée pour la course.\n",
    "### DimensionPaiement\n",
    "Cette dimension stocke des informations sur les types de paiement.\n",
    "\n",
    "payment_type : Le type de paiement utilisé pour la course.\n",
    "### FactTable\n",
    "La table de faits stocke des mesures (quantités numériques) associées à chaque course, ainsi que des clés étrangères vers les tables de dimensions correspondantes.\n",
    "\n",
    "- pickup_datetime : Clé étrangère vers la table DimensionTemporelle.\n",
    "- dropoff_datetime : Clé étrangère vers la table DimensionTemporelle.\n",
    "- pulocationid : Clé étrangère vers la table DimensionLieu.\n",
    "- dolocationid : Clé étrangère vers la table DimensionLieu.\n",
    "- vendorid : Clé étrangère vers la table DimensionFournisseur.\n",
    "- ratecodeid : Clé étrangère vers la table DimensionTarification.\n",
    "- payment_type : Clé étrangère vers la table DimensionPaiement.\n",
    "- trip_distance : La distance parcourue lors de la course.\n",
    "- fare_amount : Le montant de la course.\n",
    "- extra : Suppléments éventuels.\n",
    "- mta_tax : Taxe MTA.\n",
    "- tip_amount : Montant du pourboire.\n",
    "- tolls_amount : Montant des péages.\n",
    "- improvement_surcharge : Supplément d'amélioration.\n",
    "- total_amount : Montant total de la course.\n",
    "- congestion_surcharge : Supplément pour congestion.\n",
    "- airport_fee : Frais d'aéroport."
   ]
  },
  {
   "cell_type": "markdown",
   "id": "a485922b-1d70-43a4-8d88-61b134b2ca1b",
   "metadata": {},
   "source": [
    "# TP4"
   ]
  },
  {
   "cell_type": "markdown",
   "id": "18a22d6c-8a72-443a-999e-fdb4e9f0780f",
   "metadata": {},
   "source": [
    "Pour la realisation des visuels et des DASHBORD j'ai utilisé Tableau"
   ]
  },
  {
   "cell_type": "markdown",
   "id": "7956d895-3d8e-4256-899e-a2252c60fd5e",
   "metadata": {},
   "source": [
    "![Texte alternatif](P5.png)"
   ]
  },
  {
   "cell_type": "code",
   "execution_count": null,
   "id": "d74ba3c4-eb38-4f9b-bb17-51b17e32d56d",
   "metadata": {},
   "outputs": [],
   "source": [
    "Après chargement des sources de données on peut commencer a visualiser les KPI.\n",
    "Du fait des limitates de performance de mon systeme "
   ]
  },
  {
   "cell_type": "markdown",
   "id": "01e04c09-dff2-44c3-931d-248a18b20474",
   "metadata": {},
   "source": [
    "#### Du a une erreur et un manque de performance je n'ai pas reussi à formater le fichier recombiné "
   ]
  },
  {
   "cell_type": "markdown",
   "id": "267eff94-965a-42c1-ab6d-dff9aa4715c5",
   "metadata": {},
   "source": [
    "en effet les operations de conversion sur le format des dates devais etre effectué\n",
    "* tpep_pickup_datetime\" & tpep_dropoff_datetime\" Etaient en nombre de seconde depuis 1 jan 1970 il fallait donc effectuer une convertion pour obtenir des données exploitable dans tableau"
   ]
  },
  {
   "cell_type": "markdown",
   "id": "c1a39a83-5687-4450-9b43-c41e2bb4effd",
   "metadata": {},
   "source": [
    "![Texte alternatif](P7.png)"
   ]
  },
  {
   "cell_type": "markdown",
   "id": "9a421a1c-3c35-4cbe-a812-50a8d14c5804",
   "metadata": {},
   "source": [
    "notez l'erreur d'allocation memoire en bas a droite"
   ]
  },
  {
   "cell_type": "markdown",
   "id": "3b903336-f341-4a17-843a-fb6a8aaaada7",
   "metadata": {},
   "source": [
    "##  Realisation de quelques visuels"
   ]
  },
  {
   "cell_type": "markdown",
   "id": "3e0dfcd0-ac31-4fb9-a8d6-76f2342a48ba",
   "metadata": {},
   "source": [
    "### Durée moyenne de trajet par l'heure\n",
    "- on peut noter les pics de traffic en debut d'apres midi\n",
    "\n",
    "\n",
    "![Texte alternatif](P8.png)"
   ]
  },
  {
   "cell_type": "markdown",
   "id": "7c8bae84-149e-4a1d-a116-be33001d8799",
   "metadata": {},
   "source": []
  },
  {
   "cell_type": "markdown",
   "id": "a6edbea3-918b-4279-b0d4-dc4f5ad81a91",
   "metadata": {},
   "source": [
    "## Tarif moyen d'une course et son evolution entre 2008 et 2009\n",
    "![Texte alternatif](P6.png)"
   ]
  },
  {
   "cell_type": "markdown",
   "id": "8858237d-41e4-4895-b853-fd3e9f91af6e",
   "metadata": {},
   "source": [
    "## CREATION DES DASHBORD\n",
    "- Il suffit d'ajouter les feuilles qui nous interessent a notre dashbord nouvellenebt cree et lel tour est joué"
   ]
  },
  {
   "cell_type": "markdown",
   "id": "48aab713-b9b8-4336-b7e8-a8a5b937dd66",
   "metadata": {},
   "source": [
    "## Distance moyenne par course\n",
    "![Texte alternatif](P9.png)"
   ]
  },
  {
   "cell_type": "markdown",
   "id": "2ea84caf-c49e-4c20-a58a-51018b30320a",
   "metadata": {},
   "source": []
  },
  {
   "cell_type": "markdown",
   "id": "10b44601-3ae9-4ed2-9f2f-69757f2517df",
   "metadata": {},
   "source": [
    "## DASHBORD CONTENANT LES KPI visualisé plus haut\n",
    "![Texte alternatif](P11.png)"
   ]
  },
  {
   "cell_type": "code",
   "execution_count": null,
   "id": "327ad35a-9672-4626-ab49-e7a025e3868e",
   "metadata": {},
   "outputs": [],
   "source": []
  },
  {
   "cell_type": "code",
   "execution_count": null,
   "id": "f00620b2-df87-4c9b-b829-ead22d0aca4a",
   "metadata": {},
   "outputs": [],
   "source": []
  }
 ],
 "metadata": {
  "kernelspec": {
   "display_name": "Python 3 (ipykernel)",
   "language": "python",
   "name": "python3"
  },
  "language_info": {
   "codemirror_mode": {
    "name": "ipython",
    "version": 3
   },
   "file_extension": ".py",
   "mimetype": "text/x-python",
   "name": "python",
   "nbconvert_exporter": "python",
   "pygments_lexer": "ipython3",
   "version": "3.11.7"
  }
 },
 "nbformat": 4,
 "nbformat_minor": 5
}
